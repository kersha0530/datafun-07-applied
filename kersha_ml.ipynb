{
 "cells": [
  {
   "cell_type": "markdown",
   "id": "2668ec5c-b994-4009-a43c-3d8eb9b419ab",
   "metadata": {},
   "source": [
    "# 📊 Machine Learning with Scikit-Learn\n",
    "## ✍️ Author: Kersha Broussard  \n",
    "🔗 [GitHub Repository](https://github.com/kersha0530/datafun-07-applied)\n"
   ]
  },
  {
   "cell_type": "code",
   "execution_count": 1,
   "id": "b1f40ac4-bc9c-4f50-9a57-96eafb370f02",
   "metadata": {},
   "outputs": [
    {
     "name": "stdout",
     "output_type": "stream",
     "text": [
      "✅ All libraries imported successfully!\n"
     ]
    }
   ],
   "source": [
    "# 📌 Import Statements (Following Standard Conventions)\n",
    "\n",
    "# Data Handling\n",
    "import numpy as np\n",
    "import pandas as pd\n",
    "\n",
    "# Machine Learning\n",
    "from sklearn.model_selection import train_test_split\n",
    "from sklearn.preprocessing import StandardScaler\n",
    "from sklearn.neighbors import KNeighborsClassifier\n",
    "from sklearn.metrics import classification_report, confusion_matrix\n",
    "\n",
    "# Visualization\n",
    "import matplotlib.pyplot as plt\n",
    "import seaborn as sns\n",
    "\n",
    "# Ensure matplotlib renders inline\n",
    "%matplotlib inline\n",
    "\n",
    "# Ignore warnings (optional)\n",
    "import warnings\n",
    "warnings.filterwarnings(\"ignore\")\n",
    "\n",
    "print(\"✅ All libraries imported successfully!\")\n"
   ]
  },
  {
   "cell_type": "markdown",
   "id": "90fc33d9-385c-443b-afd8-e7b8615dc439",
   "metadata": {},
   "source": [
    "# Machine Learning - Chart a Straight Line\n",
    "## Part 1 - Chart a Straight Line\n",
    "**Author:** Kersha Broussard  \n",
    "**GitHub Repository:** [Repo Link Here](https://github.com/kersha0530/datafun-07-applied)\n"
   ]
  },
  {
   "cell_type": "markdown",
   "id": "d8e9e053-cbf0-428e-b604-0d069b2720c2",
   "metadata": {},
   "source": [
    "1. Set Up"
   ]
  },
  {
   "cell_type": "code",
   "execution_count": 6,
   "id": "1c6039c8-67ed-4bbf-963a-4220e3753669",
   "metadata": {},
   "outputs": [],
   "source": [
    "import numpy as np\n",
    "import pandas as pd\n",
    "import matplotlib.pyplot as plt\n"
   ]
  },
  {
   "cell_type": "markdown",
   "id": "f997c11e-c0b8-43d9-99b5-1f613c71c0a3",
   "metadata": {},
   "source": [
    "2. Create a Celsius vs. Fahrenheit Table\n",
    "Python code to create a DataFrame with Celsius values and convert them to Fahrenheit."
   ]
  },
  {
   "cell_type": "code",
   "execution_count": 7,
   "id": "090cb6f8-5e4f-4aec-974b-46a038e7bab8",
   "metadata": {},
   "outputs": [
    {
     "data": {
      "text/html": [
       "<div>\n",
       "<style scoped>\n",
       "    .dataframe tbody tr th:only-of-type {\n",
       "        vertical-align: middle;\n",
       "    }\n",
       "\n",
       "    .dataframe tbody tr th {\n",
       "        vertical-align: top;\n",
       "    }\n",
       "\n",
       "    .dataframe thead th {\n",
       "        text-align: right;\n",
       "    }\n",
       "</style>\n",
       "<table border=\"1\" class=\"dataframe\">\n",
       "  <thead>\n",
       "    <tr style=\"text-align: right;\">\n",
       "      <th></th>\n",
       "      <th>Celsius (°C)</th>\n",
       "      <th>Fahrenheit (°F)</th>\n",
       "    </tr>\n",
       "  </thead>\n",
       "  <tbody>\n",
       "    <tr>\n",
       "      <th>0</th>\n",
       "      <td>-40</td>\n",
       "      <td>-40.0</td>\n",
       "    </tr>\n",
       "    <tr>\n",
       "      <th>1</th>\n",
       "      <td>-30</td>\n",
       "      <td>-22.0</td>\n",
       "    </tr>\n",
       "    <tr>\n",
       "      <th>2</th>\n",
       "      <td>-20</td>\n",
       "      <td>-4.0</td>\n",
       "    </tr>\n",
       "    <tr>\n",
       "      <th>3</th>\n",
       "      <td>-10</td>\n",
       "      <td>14.0</td>\n",
       "    </tr>\n",
       "    <tr>\n",
       "      <th>4</th>\n",
       "      <td>0</td>\n",
       "      <td>32.0</td>\n",
       "    </tr>\n",
       "  </tbody>\n",
       "</table>\n",
       "</div>"
      ],
      "text/plain": [
       "   Celsius (°C)  Fahrenheit (°F)\n",
       "0           -40            -40.0\n",
       "1           -30            -22.0\n",
       "2           -20             -4.0\n",
       "3           -10             14.0\n",
       "4             0             32.0"
      ]
     },
     "execution_count": 7,
     "metadata": {},
     "output_type": "execute_result"
    }
   ],
   "source": [
    "# Create a range of Celsius temperatures from -40 to 100\n",
    "celsius = np.arange(-40, 101, 10)\n",
    "\n",
    "# Convert to Fahrenheit using F = (9/5) * C + 32\n",
    "fahrenheit = (9/5) * celsius + 32\n",
    "\n",
    "# Create DataFrame\n",
    "df = pd.DataFrame({'Celsius (°C)': celsius, 'Fahrenheit (°F)': fahrenheit})\n",
    "\n",
    "# Display the first few rows\n",
    "df.head()\n"
   ]
  },
  {
   "cell_type": "markdown",
   "id": "e328b9b9-eed5-4486-94d0-aa5342167b10",
   "metadata": {},
   "source": [
    "3. Plot the Data as a Line Chart"
   ]
  },
  {
   "cell_type": "code",
   "execution_count": 8,
   "id": "92b8f769-bb47-4718-a006-68df026e99d5",
   "metadata": {},
   "outputs": [
    {
     "data": {
      "image/png": "[encoded data removed]",
      "text/plain": [
       "<Figure size 800x500 with 1 Axes>"
      ]
     },
     "metadata": {},
     "output_type": "display_data"
    }
   ],
   "source": [
    "# Plot Celsius vs. Fahrenheit\n",
    "plt.figure(figsize=(8, 5))\n",
    "plt.plot(df['Celsius (°C)'], df['Fahrenheit (°F)'], marker='o', linestyle='-', color='b')\n",
    "\n",
    "# Add title and labels\n",
    "plt.title(\"Celsius to Fahrenheit Conversion\")\n",
    "plt.xlabel(\"Celsius (°C)\")\n",
    "plt.ylabel(\"Fahrenheit (°F)\")\n",
    "plt.grid(True)\n",
    "\n",
    "# Show plot\n",
    "plt.show()\n"
   ]
  },
  {
   "cell_type": "markdown",
   "id": "0849095a-fbeb-4091-af99-29eef1f9dc37",
   "metadata": {},
   "source": [
    "4. Verify Line Equation (y = mx + b)\n",
    "To verify, print the slope (m) and y-intercept (b):"
   ]
  },
  {
   "cell_type": "code",
   "execution_count": 9,
   "id": "6ba06025-8e5b-4794-8168-5de48ac9231e",
   "metadata": {},
   "outputs": [
    {
     "name": "stdout",
     "output_type": "stream",
     "text": [
      "Equation of the line: y = 1.8x + 32\n"
     ]
    }
   ],
   "source": [
    "# Calculate slope and intercept\n",
    "m = 9/5  # Slope (rise/run)\n",
    "b = 32   # Y-intercept\n",
    "\n",
    "print(f\"Equation of the line: y = {m}x + {b}\")\n"
   ]
  },
  {
   "cell_type": "code",
   "execution_count": null,
   "id": "15d9fdc9-eaef-42f8-b5d7-778b80249dac",
   "metadata": {},
   "outputs": [],
   "source": []
  }
 ],
 "metadata": {
  "kernelspec": {
   "display_name": "Python 3 (ipykernel)",
   "language": "python",
   "name": "python3"
  },
  "language_info": {
   "codemirror_mode": {
    "name": "ipython",
    "version": 3
   },
   "file_extension": ".py",
   "mimetype": "text/x-python",
   "name": "python",
   "nbconvert_exporter": "python",
   "pygments_lexer": "ipython3",
   "version": "3.11.9"
  }
 },
 "nbformat": 4,
 "nbformat_minor": 5
}
