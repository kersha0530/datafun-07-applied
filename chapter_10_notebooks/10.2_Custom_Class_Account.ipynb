{
 "cells": [
  {
   "cell_type": "markdown",
   "id": "8220a1a9-883f-4211-8844-17af4bb26b71",
   "metadata": {},
   "source": [
    "# 📌 10.2 Custom Class Account\n",
    "This notebook explores creating and using a custom `Account` class.\n"
   ]
  },
  {
   "cell_type": "code",
   "execution_count": 2,
   "id": "1edd5572-1d19-4c3d-a41f-51c2880e4808",
   "metadata": {},
   "outputs": [
    {
     "name": "stdout",
     "output_type": "stream",
     "text": [
      "Trying:\n",
      "    account1 = Account('John Green', Decimal('50.00'))\n",
      "Expecting nothing\n",
      "ok\n",
      "Trying:\n",
      "    account1.name\n",
      "Expecting:\n",
      "    'John Green'\n",
      "ok\n",
      "Trying:\n",
      "    account1.balance\n",
      "Expecting:\n",
      "    Decimal('50.00')\n",
      "ok\n",
      "Trying:\n",
      "    account2 = Account('John Green', Decimal('-50.00'))\n",
      "Expecting:\n",
      "    Traceback (most recent call last):\n",
      "        ...\n",
      "    ValueError: Initial balance must be >= to 0.00.\n",
      "ok\n",
      "3 items had no tests:\n",
      "    __main__\n",
      "    __main__.Account\n",
      "    __main__.Account.deposit\n",
      "1 items passed all tests:\n",
      "   4 tests in __main__.Account.__init__\n",
      "4 tests in 4 items.\n",
      "4 passed and 0 failed.\n",
      "Test passed.\n"
     ]
    }
   ],
   "source": [
    "# accountdoctest.py\n",
    "\"\"\"Account class definition.\"\"\"\n",
    "from decimal import Decimal\n",
    "\n",
    "class Account:\n",
    "    \"\"\"Account class for demonstrating doctest.\"\"\"\n",
    "    \n",
    "    def __init__(self, name, balance):\n",
    "        \"\"\"Initialize an Account object.\n",
    "        \n",
    "        >>> account1 = Account('John Green', Decimal('50.00'))\n",
    "        >>> account1.name\n",
    "        'John Green'\n",
    "        >>> account1.balance\n",
    "        Decimal('50.00')\n",
    "\n",
    "        The balance argument must be greater than or equal to 0.\n",
    "        >>> account2 = Account('John Green', Decimal('-50.00'))\n",
    "        Traceback (most recent call last):\n",
    "            ...\n",
    "        ValueError: Initial balance must be >= to 0.00.\n",
    "        \"\"\"\n",
    "\n",
    "        # if balance is less than 0.00, raise an exception\n",
    "        if balance < Decimal('0.00'):\n",
    "            raise ValueError('Initial balance must be >= to 0.00.')\n",
    "\n",
    "        self.name = name\n",
    "        self.balance = balance\n",
    "\n",
    "    def deposit(self, amount):\n",
    "        \"\"\"Deposit money to the account.\"\"\"\n",
    "\n",
    "        # if amount is less than 0.00, raise an exception\n",
    "        if amount < Decimal('0.00'):\n",
    "            raise ValueError('amount must be positive.')\n",
    "\n",
    "        self.balance += amount\n",
    "\n",
    "if __name__ == '__main__':\n",
    "    import doctest\n",
    "    doctest.testmod(verbose=True)\n",
    "\n",
    "##########################################################################\n",
    "# (C) Copyright 2019 by Deitel & Associates, Inc. and                    #\n",
    "# Pearson Education, Inc. All Rights Reserved.                           #\n",
    "#                                                                        #\n",
    "# DISCLAIMER: The authors and publisher of this book have used their     #\n",
    "# best efforts in preparing the book. These efforts include the          #\n",
    "# development, research, and testing of the theories and programs        #\n",
    "# to determine their effectiveness. The authors and publisher make       #\n",
    "# no warranty of any kind, expressed or implied, with regard to these    #\n",
    "# programs or to the documentation contained in these books. The authors #\n",
    "# and publisher shall not be liable in any event for incidental or       #\n",
    "# consequential damages in connection with, or arising out of, the       #\n",
    "# furnishing, performance, or use of these programs.                     #\n",
    "##########################################################################\n"
   ]
  },
  {
   "cell_type": "code",
   "execution_count": null,
   "id": "1858d01a-a9db-41fa-8fe8-2173134dbe36",
   "metadata": {},
   "outputs": [],
   "source": []
  }
 ],
 "metadata": {
  "kernelspec": {
   "display_name": "Python 3 (ipykernel)",
   "language": "python",
   "name": "python3"
  },
  "language_info": {
   "codemirror_mode": {
    "name": "ipython",
    "version": 3
   },
   "file_extension": ".py",
   "mimetype": "text/x-python",
   "name": "python",
   "nbconvert_exporter": "python",
   "pygments_lexer": "ipython3",
   "version": "3.11.9"
  }
 },
 "nbformat": 4,
 "nbformat_minor": 5
}
